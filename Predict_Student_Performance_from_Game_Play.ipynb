{
  "nbformat": 4,
  "nbformat_minor": 0,
  "metadata": {
    "colab": {
      "provenance": [],
      "include_colab_link": true
    },
    "kernelspec": {
      "name": "python3",
      "display_name": "Python 3"
    }
  },
  "cells": [
    {
      "cell_type": "markdown",
      "metadata": {
        "id": "view-in-github",
        "colab_type": "text"
      },
      "source": [
        "<a href=\"https://colab.research.google.com/github/Abdelhak-mekaoui/Student_Performance_from_Game_Play/blob/main/Predict_Student_Performance_from_Game_Play.ipynb\" target=\"_parent\"><img src=\"https://colab.research.google.com/assets/colab-badge.svg\" alt=\"Open In Colab\"/></a>"
      ]
    },
    {
      "cell_type": "markdown",
      "source": [
        "# Setup data from kaggle"
      ],
      "metadata": {
        "id": "qMsf60Eo7MYl"
      }
    },
    {
      "cell_type": "code",
      "source": [
        "! pip install kaggle"
      ],
      "metadata": {
        "colab": {
          "base_uri": "https://localhost:8080/"
        },
        "id": "18qfVNrn7NY7",
        "outputId": "3375580d-c6e6-480a-cab9-92ae4824b4f4"
      },
      "execution_count": 1,
      "outputs": [
        {
          "output_type": "stream",
          "name": "stdout",
          "text": [
            "Looking in indexes: https://pypi.org/simple, https://us-python.pkg.dev/colab-wheels/public/simple/\n",
            "Requirement already satisfied: kaggle in /usr/local/lib/python3.8/dist-packages (1.5.12)\n",
            "Requirement already satisfied: requests in /usr/local/lib/python3.8/dist-packages (from kaggle) (2.25.1)\n",
            "Requirement already satisfied: six>=1.10 in /usr/local/lib/python3.8/dist-packages (from kaggle) (1.15.0)\n",
            "Requirement already satisfied: python-dateutil in /usr/local/lib/python3.8/dist-packages (from kaggle) (2.8.2)\n",
            "Requirement already satisfied: tqdm in /usr/local/lib/python3.8/dist-packages (from kaggle) (4.64.1)\n",
            "Requirement already satisfied: python-slugify in /usr/local/lib/python3.8/dist-packages (from kaggle) (8.0.1)\n",
            "Requirement already satisfied: urllib3 in /usr/local/lib/python3.8/dist-packages (from kaggle) (1.26.14)\n",
            "Requirement already satisfied: certifi in /usr/local/lib/python3.8/dist-packages (from kaggle) (2022.12.7)\n",
            "Requirement already satisfied: text-unidecode>=1.3 in /usr/local/lib/python3.8/dist-packages (from python-slugify->kaggle) (1.3)\n",
            "Requirement already satisfied: chardet<5,>=3.0.2 in /usr/local/lib/python3.8/dist-packages (from requests->kaggle) (4.0.0)\n",
            "Requirement already satisfied: idna<3,>=2.5 in /usr/local/lib/python3.8/dist-packages (from requests->kaggle) (2.10)\n"
          ]
        }
      ]
    },
    {
      "cell_type": "code",
      "source": [
        "! mkdir ~/.kaggle"
      ],
      "metadata": {
        "id": "UMQzAcjw7Rr6"
      },
      "execution_count": 2,
      "outputs": []
    },
    {
      "cell_type": "code",
      "source": [
        "! cp kaggle.json ~/.kaggle/"
      ],
      "metadata": {
        "id": "tnTq1Zrs7S0c"
      },
      "execution_count": 3,
      "outputs": []
    },
    {
      "cell_type": "code",
      "source": [
        "! chmod 600 ~/.kaggle/kaggle.json"
      ],
      "metadata": {
        "id": "K9FtAuow7WZ_"
      },
      "execution_count": 4,
      "outputs": []
    },
    {
      "cell_type": "code",
      "source": [
        "! kaggle competitions download -c predict-student-performance-from-game-play"
      ],
      "metadata": {
        "colab": {
          "base_uri": "https://localhost:8080/"
        },
        "id": "1kxAnh717aiB",
        "outputId": "13abd356-bc17-4768-8b6e-fa98274c2ed6"
      },
      "execution_count": 7,
      "outputs": [
        {
          "output_type": "stream",
          "name": "stdout",
          "text": [
            "Downloading predict-student-performance-from-game-play.zip to /content\n",
            " 96% 466M/484M [00:02<00:00, 205MB/s]\n",
            "100% 484M/484M [00:02<00:00, 171MB/s]\n"
          ]
        }
      ]
    },
    {
      "cell_type": "code",
      "source": [
        "! unzip predict-student-performance-from-game-play.zip"
      ],
      "metadata": {
        "colab": {
          "base_uri": "https://localhost:8080/"
        },
        "id": "SCDAY1M770Mr",
        "outputId": "2e38904c-7f85-49b3-d8eb-0b2d3ba39771"
      },
      "execution_count": 8,
      "outputs": [
        {
          "output_type": "stream",
          "name": "stdout",
          "text": [
            "Archive:  predict-student-performance-from-game-play.zip\n",
            "  inflating: jo_wilder/__init__.py   \n",
            "  inflating: jo_wilder/competition.cpython-37m-x86_64-linux-gnu.so  \n",
            "  inflating: sample_submission.csv   \n",
            "  inflating: test.csv                \n",
            "  inflating: train.csv               \n",
            "  inflating: train_labels.csv        \n"
          ]
        }
      ]
    },
    {
      "cell_type": "markdown",
      "source": [
        "# Importing the libraries"
      ],
      "metadata": {
        "id": "Rc1bJX_eWfQ5"
      }
    },
    {
      "cell_type": "code",
      "source": [
        "import numpy as np\n",
        "import matplotlib.pyplot as plt\n",
        "import pandas as pd\n",
        "import seaborn as sns"
      ],
      "metadata": {
        "id": "zJb8tcCZWebj"
      },
      "execution_count": 1,
      "outputs": []
    },
    {
      "cell_type": "markdown",
      "source": [
        "# Data Preprocessing"
      ],
      "metadata": {
        "id": "2hr03mjHTwdT"
      }
    },
    {
      "cell_type": "code",
      "source": [
        "train_data = pd.read_csv('train.csv')\n",
        "test_data = pd.read_csv('test.csv')\n",
        "sample_submission = pd.read_csv('sample_submission.csv')"
      ],
      "metadata": {
        "id": "AnrinIF6Tk1F"
      },
      "execution_count": 25,
      "outputs": []
    },
    {
      "cell_type": "code",
      "source": [
        "train_data.info()"
      ],
      "metadata": {
        "colab": {
          "base_uri": "https://localhost:8080/"
        },
        "id": "9He7ioNWXGCm",
        "outputId": "4cfbe93d-6852-4f72-e292-33b2fb464466"
      },
      "execution_count": 13,
      "outputs": [
        {
          "output_type": "stream",
          "name": "stdout",
          "text": [
            "<class 'pandas.core.frame.DataFrame'>\n",
            "RangeIndex: 13174211 entries, 0 to 13174210\n",
            "Data columns (total 20 columns):\n",
            " #   Column          Dtype  \n",
            "---  ------          -----  \n",
            " 0   session_id      int64  \n",
            " 1   index           int64  \n",
            " 2   elapsed_time    int64  \n",
            " 3   event_name      object \n",
            " 4   name            object \n",
            " 5   level           int64  \n",
            " 6   page            float64\n",
            " 7   room_coor_x     float64\n",
            " 8   room_coor_y     float64\n",
            " 9   screen_coor_x   float64\n",
            " 10  screen_coor_y   float64\n",
            " 11  hover_duration  float64\n",
            " 12  text            object \n",
            " 13  fqid            object \n",
            " 14  room_fqid       object \n",
            " 15  text_fqid       object \n",
            " 16  fullscreen      float64\n",
            " 17  hq              float64\n",
            " 18  music           float64\n",
            " 19  level_group     object \n",
            "dtypes: float64(9), int64(4), object(7)\n",
            "memory usage: 2.0+ GB\n"
          ]
        }
      ]
    },
    {
      "cell_type": "code",
      "source": [
        "train_data.nunique()"
      ],
      "metadata": {
        "colab": {
          "base_uri": "https://localhost:8080/"
        },
        "id": "f_rZ0f1PXLZk",
        "outputId": "2b0d8798-4e7f-43ed-c05d-fd9a2653914a"
      },
      "execution_count": 14,
      "outputs": [
        {
          "output_type": "execute_result",
          "data": {
            "text/plain": [
              "session_id          11779\n",
              "index               20348\n",
              "elapsed_time      3804019\n",
              "event_name             11\n",
              "name                    6\n",
              "level                  23\n",
              "page                    7\n",
              "room_coor_x       9120274\n",
              "room_coor_y       7047316\n",
              "screen_coor_x       35331\n",
              "screen_coor_y       56858\n",
              "hover_duration      19474\n",
              "text                  594\n",
              "fqid                  127\n",
              "room_fqid              19\n",
              "text_fqid             126\n",
              "fullscreen              0\n",
              "hq                      0\n",
              "music                   0\n",
              "level_group             3\n",
              "dtype: int64"
            ]
          },
          "metadata": {},
          "execution_count": 14
        }
      ]
    },
    {
      "cell_type": "markdown",
      "source": [
        "# Dealing with missing values"
      ],
      "metadata": {
        "id": "sBz5ZvHRbgVz"
      }
    },
    {
      "cell_type": "code",
      "source": [
        "train_data.isnull().sum()"
      ],
      "metadata": {
        "colab": {
          "base_uri": "https://localhost:8080/"
        },
        "id": "XPDvAxInbiDq",
        "outputId": "49a1ec68-c276-4ad2-a982-d209371d9829"
      },
      "execution_count": 19,
      "outputs": [
        {
          "output_type": "execute_result",
          "data": {
            "text/plain": [
              "elapsed_time             0\n",
              "event_name               0\n",
              "name                     0\n",
              "level                    0\n",
              "page              12889465\n",
              "room_coor_x        1036240\n",
              "room_coor_y        1036240\n",
              "screen_coor_x      1036240\n",
              "screen_coor_y      1036240\n",
              "hover_duration    12173474\n",
              "fqid               4159648\n",
              "room_fqid                0\n",
              "text_fqid          8367266\n",
              "level_group              0\n",
              "dtype: int64"
            ]
          },
          "metadata": {},
          "execution_count": 19
        }
      ]
    },
    {
      "cell_type": "code",
      "source": [
        "#sns.heatmap(train_data.isnull(),yticklabels=False,cbar=False)"
      ],
      "metadata": {
        "id": "dq4gNc5JdZFs"
      },
      "execution_count": null,
      "outputs": []
    },
    {
      "cell_type": "markdown",
      "source": [
        "# Droping columns with no effect"
      ],
      "metadata": {
        "id": "RjqIQnvVYmSv"
      }
    },
    {
      "cell_type": "code",
      "source": [
        "columns_to_drop = ['session_id','index','fullscreen','hq','music','text','page','room_coor_x','room_coor_y','screen_coor_x','screen_coor_y','hover_duration','fqid','text_fqid']"
      ],
      "metadata": {
        "id": "EramYqpEXjlQ"
      },
      "execution_count": 20,
      "outputs": []
    },
    {
      "cell_type": "code",
      "source": [
        "train_data = train_data.drop(columns=columns_to_drop)\n",
        "test_data = test_data.drop(columns=columns_to_drop)"
      ],
      "metadata": {
        "id": "QSmDpV7EbARV"
      },
      "execution_count": 23,
      "outputs": []
    },
    {
      "cell_type": "code",
      "source": [
        "train_data.nunique()"
      ],
      "metadata": {
        "colab": {
          "base_uri": "https://localhost:8080/"
        },
        "id": "k8aaW9CfbER3",
        "outputId": "8e3174d1-560d-447c-e1d0-b17390d8cc5a"
      },
      "execution_count": 24,
      "outputs": [
        {
          "output_type": "execute_result",
          "data": {
            "text/plain": [
              "elapsed_time    3804019\n",
              "event_name           11\n",
              "name                  6\n",
              "level                23\n",
              "room_fqid            19\n",
              "level_group           3\n",
              "dtype: int64"
            ]
          },
          "metadata": {},
          "execution_count": 24
        }
      ]
    },
    {
      "cell_type": "code",
      "source": [],
      "metadata": {
        "id": "2AWvhogKdOyP"
      },
      "execution_count": null,
      "outputs": []
    }
  ]
}